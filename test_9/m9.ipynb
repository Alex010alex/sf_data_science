{
 "cells": [
  {
   "cell_type": "code",
   "execution_count": null,
   "metadata": {},
   "outputs": [
    {
     "ename": "ModuleNotFoundError",
     "evalue": "No module named 'pandas'",
     "output_type": "error",
     "traceback": [
      "\u001b[0;31m---------------------------------------------------------------------------\u001b[0m",
      "\u001b[0;31mModuleNotFoundError\u001b[0m                       Traceback (most recent call last)",
      "\u001b[0;32m/tmp/ipykernel_3257/2035458946.py\u001b[0m in \u001b[0;36m<module>\u001b[0;34m\u001b[0m\n\u001b[0;32m----> 1\u001b[0;31m \u001b[0;32mimport\u001b[0m \u001b[0mpandas\u001b[0m \u001b[0;32mas\u001b[0m \u001b[0mpd\u001b[0m\u001b[0;34m\u001b[0m\u001b[0;34m\u001b[0m\u001b[0m\n\u001b[0m",
      "\u001b[0;31mModuleNotFoundError\u001b[0m: No module named 'pandas'"
     ]
    }
   ],
   "source": [
    "import pandas as pd\n"
   ]
  },
  {
   "cell_type": "code",
   "execution_count": null,
   "metadata": {},
   "outputs": [
    {
     "name": "stdout",
     "output_type": "stream",
     "text": [
      "0.45\n"
     ]
    }
   ],
   "source": [
    "import numpy as np\n",
    "arr, step = np.linspace(-6, 21, 60, endpoint=False, retstep=True)\n",
    "print(step)"
   ]
  },
  {
   "cell_type": "markdown",
   "metadata": {},
   "source": []
  },
  {
   "cell_type": "code",
   "execution_count": 39,
   "metadata": {},
   "outputs": [
    {
     "name": "stdout",
     "output_type": "stream",
     "text": [
      "20.77 21.27 22.16 23.3 24.44 24.94 25.56 26.2 25.97 25.94 25.57 25.1 24.81 24.21 23.23 22.57 21.41 20.4 19.6 19.1 19.04 18.96 19.44 20.01 20.67 "
     ]
    }
   ],
   "source": [
    "from collections import deque\n",
    "temps = [20.6, 19.4, 19.0, 19.0, 22.1,\n",
    "        22.5, 22.8, 24.1, 25.6, 27.0,\n",
    "        27.0, 25.6, 26.8, 27.3, 22.5,\n",
    "        25.4, 24.4, 23.7, 23.6, 22.6,\n",
    "        20.4, 17.9, 17.3, 17.3, 18.1,\n",
    "        20.1, 22.2, 19.8, 21.3, 21.3,\n",
    "        21.9]\n",
    "days = deque(maxlen=7)\n",
    " \n",
    "for temp in temps:\n",
    "    days.append(temp)\n",
    "    if len(days) == days.maxlen:\n",
    "        print(round(sum(days) / len(days), 2),end=\" \")"
   ]
  },
  {
   "cell_type": "code",
   "execution_count": 24,
   "metadata": {},
   "outputs": [
    {
     "name": "stdout",
     "output_type": "stream",
     "text": [
      "['black', 'black', 'black', 'black', 'white', 'white', 'yellow', 'yellow', 'yellow']\n",
      "<class 'itertools.chain'>\n",
      "['black', 'white', 'yellow']\n",
      "<class 'collections.Counter'>\n",
      "{'black': 4, 'white': 2, 'yellow': 3}\n",
      "<class 'dict'>\n",
      "Counter({'white': 3, 'red': 2, 'black': 2, 'yellow': 2})\n"
     ]
    }
   ],
   "source": [
    "cars_moscow = ['black', 'black', 'white', 'black', 'black', 'white', 'yellow', 'yellow', 'yellow']\n",
    "cars_spb = ['red', 'black', 'black', 'white', 'white', 'yellow', 'yellow', 'red', 'white']\n",
    "\n",
    "counter_moscow = Counter(cars_moscow)\n",
    "counter_spb = Counter(cars_spb)\n",
    " \n",
    "print(list(counter_moscow.elements()))\n",
    "print(type(counter_moscow.elements()))\n",
    "print(list(counter_moscow))\n",
    "print(type(counter_moscow))\n",
    "print(dict(counter_moscow))\n",
    "print(type(dict((counter_moscow))))\n",
    "\n",
    "print(counter_spb)\n"
   ]
  }
 ],
 "metadata": {
  "interpreter": {
   "hash": "cadf72be479c7117c23485356514dc7b888f50845033b965b03f52ac5107128c"
  },
  "kernelspec": {
   "display_name": "Python 3.8.11 64-bit ('sfas': conda)",
   "language": "python",
   "name": "python3"
  },
  "language_info": {
   "codemirror_mode": {
    "name": "ipython",
    "version": 3
   },
   "file_extension": ".py",
   "mimetype": "text/x-python",
   "name": "python",
   "nbconvert_exporter": "python",
   "pygments_lexer": "ipython3",
   "version": "3.8.11"
  },
  "orig_nbformat": 4
 },
 "nbformat": 4,
 "nbformat_minor": 2
}
