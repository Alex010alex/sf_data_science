{
 "cells": [
  {
   "cell_type": "code",
   "execution_count": 1,
   "metadata": {},
   "outputs": [],
   "source": [
    "import pandas as pd\n",
    "\n",
    "sb_data = pd.read_csv('data/citibike-tripdata.csv', sep=',')"
   ]
  },
  {
   "cell_type": "code",
   "execution_count": null,
   "metadata": {},
   "outputs": [],
   "source": [
    "#sb_data['start station id'].isnull().sum()\n",
    "#sb_data.info()\n",
    "#sb_data['end station name'].value_counts()"
   ]
  },
  {
   "cell_type": "code",
   "execution_count": 2,
   "metadata": {},
   "outputs": [],
   "source": [
    "sb_data.drop(['start station id','end station id'], axis=1, inplace=True)"
   ]
  },
  {
   "cell_type": "code",
   "execution_count": 3,
   "metadata": {},
   "outputs": [],
   "source": [
    "#sb_data['birth year']=pd.to_datetime(sb_data['birth year'])\n",
    "sb_data['age']= 2018 - sb_data['birth year']\n",
    "sb_data.drop(['birth year'], axis=1, inplace=True)"
   ]
  },
  {
   "cell_type": "code",
   "execution_count": null,
   "metadata": {},
   "outputs": [],
   "source": [
    "sb_data['stoptime']=pd.to_datetime(sb_data['stoptime'])\n",
    "sb_data['starttime']=pd.to_datetime(sb_data['starttime'])\n",
    "sb_data['starttime']"
   ]
  },
  {
   "cell_type": "code",
   "execution_count": null,
   "metadata": {},
   "outputs": [],
   "source": [
    "#sb_data['age'][sb_data['age']>60].describe()\n",
    "sb_data['trip duration']=sb_data['stoptime']-sb_data['starttime']\n",
    "sb_data['trip duration'].dt.seconds.describe()"
   ]
  },
  {
   "cell_type": "code",
   "execution_count": 9,
   "metadata": {},
   "outputs": [
    {
     "data": {
      "text/plain": [
       "115135"
      ]
     },
     "execution_count": 9,
     "metadata": {},
     "output_type": "execute_result"
    }
   ],
   "source": [
    "def workorweekend(f_datetime):\n",
    "    if (f_datetime==5 or f_datetime==6):\n",
    "        id_datetime = 1\n",
    "    else: id_datetime = 0\n",
    "    return id_datetime\n",
    "\n",
    "dt_temp = sb_data['starttime'].dt.dayofweek\n",
    "sb_data['weekend']=dt_temp.apply(workorweekend)\n",
    "#sb_data['weekend']=dt_temp.apply(lambda x: 1 if x ==5 or x == 6 else 0)\n",
    "sb_data['weekend'].sum()"
   ]
  },
  {
   "cell_type": "code",
   "execution_count": 18,
   "metadata": {},
   "outputs": [
    {
     "name": "stdout",
     "output_type": "stream",
     "text": [
      "9\n"
     ]
    }
   ],
   "source": [
    "def get_tod(f_time):\n",
    "    if 0 <= f_time <= 6:\n",
    "        return 'night'\n",
    "    elif 6 < f_time <= 12:\n",
    "        return 'morning'\n",
    "    elif 12 < f_time <= 18:\n",
    "        return 'day'\n",
    "    else:\n",
    "        return 'evening'\n",
    "    \n",
    "sb_data['time_of_day'] = sb_data['starttime'].dt.hour.apply(get_tod)\n",
    "a = sb_data[sb_data['time_of_day'] == 'day'].shape[0]\n",
    "b = sb_data[sb_data['time_of_day'] == 'night'].shape[0]\n",
    "print(round(a / b))"
   ]
  }
 ],
 "metadata": {
  "interpreter": {
   "hash": "cadf72be479c7117c23485356514dc7b888f50845033b965b03f52ac5107128c"
  },
  "kernelspec": {
   "display_name": "Python 3.8.11 64-bit ('sfas': conda)",
   "language": "python",
   "name": "python3"
  },
  "language_info": {
   "codemirror_mode": {
    "name": "ipython",
    "version": 3
   },
   "file_extension": ".py",
   "mimetype": "text/x-python",
   "name": "python",
   "nbconvert_exporter": "python",
   "pygments_lexer": "ipython3",
   "version": "3.8.11"
  },
  "orig_nbformat": 4
 },
 "nbformat": 4,
 "nbformat_minor": 2
}
