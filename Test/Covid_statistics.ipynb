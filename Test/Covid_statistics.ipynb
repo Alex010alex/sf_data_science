{
 "cells": [
  {
   "cell_type": "code",
   "execution_count": 26,
   "metadata": {},
   "outputs": [],
   "source": [
    "\n",
    "# DB omicron\n",
    "import pandas as pd\n",
    "omicron_df = pd.read_csv('data/covid-omicron.csv', sep=';') \n",
    "omicron_df['date'] = pd.to_datetime(omicron_df['date'])\n",
    "total_data = omicron_df[omicron_df['date']>'2021-10-01'].sort_values(by='date')\n",
    "import matplotlib.pyplot as plt\n",
    "%matplotlib inline"
   ]
  },
  {
   "cell_type": "code",
   "execution_count": 27,
   "metadata": {},
   "outputs": [],
   "source": [
    "gtot_data = total_data.groupby(['date'])['num_sequences'].sum()\n",
    "gomicron_data = total_data[total_data['variant']=='Omicron'].groupby(['date'])['num_sequences'].sum()"
   ]
  },
  {
   "cell_type": "code",
   "execution_count": null,
   "metadata": {},
   "outputs": [],
   "source": [
    "fig = plt.figure(figsize=(10, 4))\n",
    "axes = fig.add_axes([0, 0, 1, 1])\n",
    "\n",
    "axes.plot(gtot_data, label='Общее число зафиксированных случаев в неделю', lw=3)\n",
    "axes.plot(gomicron_data, label='число зафиксированных случаев Omicron в неделю', lw=3)\n",
    "axes.set_title('Статистика Covid-19', fontsize=16)\n",
    "axes.set_xlabel('Даты')\n",
    "axes.set_ylabel('Число случаев')\n",
    "axes.set_yticks(range(0, 500000, 100000))\n",
    "axes.xaxis.set_tick_params(rotation=30)\n",
    "axes.grid()\n",
    "axes.legend()"
   ]
  }
 ],
 "metadata": {
  "interpreter": {
   "hash": "cadf72be479c7117c23485356514dc7b888f50845033b965b03f52ac5107128c"
  },
  "kernelspec": {
   "display_name": "Python 3.8.11 64-bit ('sfas': conda)",
   "language": "python",
   "name": "python3"
  },
  "language_info": {
   "codemirror_mode": {
    "name": "ipython",
    "version": 3
   },
   "file_extension": ".py",
   "mimetype": "text/x-python",
   "name": "python",
   "nbconvert_exporter": "python",
   "pygments_lexer": "ipython3",
   "version": "3.8.11"
  },
  "orig_nbformat": 4
 },
 "nbformat": 4,
 "nbformat_minor": 2
}
